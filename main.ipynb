{
 "cells": [
  {
   "cell_type": "markdown",
   "source": [
    "# Сравнение резервуарных вычислений и полносвязной сети в задаче аппроксимации нескольких функций"
   ],
   "metadata": {
    "collapsed": false
   },
   "id": "35b646362cbbc33b"
  },
  {
   "cell_type": "code",
   "execution_count": null,
   "id": "initial_id",
   "metadata": {
    "collapsed": true
   },
   "outputs": [],
   "source": [
    "from Generation import GenData\n",
    "from SnakeNet import SnakeReluNet\n",
    "import torch\n",
    "from torch import nn\n",
    "import numpy\n"
   ]
  }
 ],
 "metadata": {
  "kernelspec": {
   "display_name": "Python 3",
   "language": "python",
   "name": "python3"
  },
  "language_info": {
   "codemirror_mode": {
    "name": "ipython",
    "version": 2
   },
   "file_extension": ".py",
   "mimetype": "text/x-python",
   "name": "python",
   "nbconvert_exporter": "python",
   "pygments_lexer": "ipython2",
   "version": "2.7.6"
  }
 },
 "nbformat": 4,
 "nbformat_minor": 5
}
